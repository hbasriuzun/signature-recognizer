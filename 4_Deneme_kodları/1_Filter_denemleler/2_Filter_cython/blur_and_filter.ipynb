{
 "cells": [
  {
   "cell_type": "code",
   "execution_count": 15,
   "metadata": {},
   "outputs": [
    {
     "ename": "ImportError",
     "evalue": "dynamic module does not define module export function (PyInit_my_filter)",
     "output_type": "error",
     "traceback": [
      "\u001b[0;31m---------------------------------------------------------------------------\u001b[0m",
      "\u001b[0;31mImportError\u001b[0m                               Traceback (most recent call last)",
      "Cell \u001b[0;32mIn[15], line 3\u001b[0m\n\u001b[1;32m      1\u001b[0m \u001b[38;5;28;01mimport\u001b[39;00m \u001b[38;5;21;01mcv2\u001b[39;00m\n\u001b[1;32m      2\u001b[0m \u001b[38;5;28;01mimport\u001b[39;00m \u001b[38;5;21;01mnumpy\u001b[39;00m \u001b[38;5;28;01mas\u001b[39;00m \u001b[38;5;21;01mnp\u001b[39;00m\n\u001b[0;32m----> 3\u001b[0m \u001b[38;5;28;01mfrom\u001b[39;00m \u001b[38;5;21;01mmy_filter\u001b[39;00m \u001b[38;5;28;01mimport\u001b[39;00m apply_blur_wrapper \u001b[38;5;28;01mas\u001b[39;00m apply_blur\n\u001b[1;32m      5\u001b[0m \u001b[38;5;66;03m# 1. Görüntüyü Okuma\u001b[39;00m\n\u001b[1;32m      6\u001b[0m image_path \u001b[38;5;241m=\u001b[39m \u001b[38;5;124m\"\u001b[39m\u001b[38;5;124mdata/IMG_6436.jpeg\u001b[39m\u001b[38;5;124m\"\u001b[39m\n",
      "\u001b[0;31mImportError\u001b[0m: dynamic module does not define module export function (PyInit_my_filter)"
     ]
    }
   ],
   "source": [
    "import cv2\n",
    "import numpy as np\n",
    "\n",
    "from my_filter import apply_blur_wrapper as apply_blur\n",
    "\n",
    "# 1. Görüntüyü Okuma\n",
    "image_path = \"data/IMG_6436.jpeg\"\n",
    "image = cv2.imread(image_path, cv2.IMREAD_GRAYSCALE)  # Gri tonlamalı olarak yükleyin\n",
    "height, width = image.shape\n",
    "\n",
    "# 2. Girdi ve Çıktı Dizilerini Hazırlama\n",
    "input_array = image.flatten().astype(np.uint8)  # Görüntüyü 1D diziye çevirin\n",
    "output_array = np.zeros_like(input_array)  # Çıktı dizisi\n",
    "\n",
    "# 3. Bulanıklaştırma İşlemini Uygulama\n",
    "apply_blur(width, height, input_array, output_array, blur_strength=5)  # C fonksiyonunu çağırın\n",
    "\n",
    "# 4. Sonuç Görüntüsünü 2D Forma Çevirme\n",
    "blurred_image = output_array.reshape((height, width))\n",
    "\n",
    "# 5. Sonucu Görüntüleme\n",
    "import matplotlib.pyplot as plt\n",
    "\n",
    "plt.figure(figsize=(10, 5))\n",
    "plt.subplot(1, 2, 1)\n",
    "plt.title(\"Orijinal Görüntü\")\n",
    "plt.imshow(image, cmap=\"gray\")\n",
    "\n",
    "plt.subplot(1, 2, 2)\n",
    "plt.title(\"Bulanıklaştırılmış Görüntü\")\n",
    "plt.imshow(blurred_image, cmap=\"gray\")\n",
    "\n",
    "plt.show()"
   ]
  },
  {
   "cell_type": "code",
   "execution_count": null,
   "metadata": {},
   "outputs": [],
   "source": []
  }
 ],
 "metadata": {
  "kernelspec": {
   "display_name": "signature_3-10-14",
   "language": "python",
   "name": "python3"
  },
  "language_info": {
   "codemirror_mode": {
    "name": "ipython",
    "version": 3
   },
   "file_extension": ".py",
   "mimetype": "text/x-python",
   "name": "python",
   "nbconvert_exporter": "python",
   "pygments_lexer": "ipython3",
   "version": "3.10.13"
  }
 },
 "nbformat": 4,
 "nbformat_minor": 2
}
