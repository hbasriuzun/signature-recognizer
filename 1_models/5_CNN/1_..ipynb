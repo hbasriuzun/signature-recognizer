{
 "cells": [
  {
   "cell_type": "code",
   "execution_count": 1,
   "metadata": {},
   "outputs": [],
   "source": [
    "import pickle\n",
    "import numpy as np\n",
    "\n",
    "# Veriyi yükle\n",
    "def load_cifar100(data_path):\n",
    "    with open(data_path, 'rb') as f:\n",
    "        data_dict = pickle.load(f, encoding='bytes')\n",
    "    return data_dict\n",
    "\n",
    "train_data = load_cifar100('/Users/hbuzun/Library/CloudStorage/OneDrive-Personal/!Okul/2_Tasarım_projesi/4_Veri/cifar-100-python/train')  # Eğitim verisinin dosya yolu\n",
    "test_data = load_cifar100('/Users/hbuzun/Library/CloudStorage/OneDrive-Personal/!Okul/2_Tasarım_projesi/4_Veri/cifar-100-python/test')    # Test verisinin dosya yolu\n",
    "\n",
    "# Eğitim verilerini ve etiketleri ayır\n",
    "x_train = train_data[b'data']\n",
    "y_train = np.array(train_data[b'fine_labels'])\n"
   ]
  },
  {
   "cell_type": "code",
   "execution_count": null,
   "metadata": {},
   "outputs": [],
   "source": []
  }
 ],
 "metadata": {
  "kernelspec": {
   "display_name": "3-9-13_NN",
   "language": "python",
   "name": "python3"
  },
  "language_info": {
   "codemirror_mode": {
    "name": "ipython",
    "version": 3
   },
   "file_extension": ".py",
   "mimetype": "text/x-python",
   "name": "python",
   "nbconvert_exporter": "python",
   "pygments_lexer": "ipython3",
   "version": "3.12.7"
  }
 },
 "nbformat": 4,
 "nbformat_minor": 2
}
