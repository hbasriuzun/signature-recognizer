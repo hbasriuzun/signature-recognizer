{
 "cells": [
  {
   "cell_type": "code",
   "execution_count": 7,
   "metadata": {},
   "outputs": [
    {
     "name": "stdout",
     "output_type": "stream",
     "text": [
      "Epoch [1/5], Loss: 0.2673, Accuracy: 0.9379\n",
      "Epoch [2/5], Loss: 0.0000, Accuracy: 1.0000\n",
      "Epoch [3/5], Loss: 0.0000, Accuracy: 1.0000\n",
      "Epoch [4/5], Loss: 0.0000, Accuracy: 1.0000\n",
      "Epoch [5/5], Loss: 0.0000, Accuracy: 1.0000\n"
     ]
    },
    {
     "ename": "NameError",
     "evalue": "name 'test_loader' is not defined",
     "output_type": "error",
     "traceback": [
      "\u001b[0;31m---------------------------------------------------------------------------\u001b[0m",
      "\u001b[0;31mNameError\u001b[0m                                 Traceback (most recent call last)",
      "Cell \u001b[0;32mIn[7], line 3\u001b[0m\n\u001b[1;32m      1\u001b[0m \u001b[38;5;66;03m# Modeli eğit ve test et\u001b[39;00m\n\u001b[1;32m      2\u001b[0m train_model(model, train_loader, criterion, optimizer, num_epochs)\n\u001b[0;32m----> 3\u001b[0m test_model(model, \u001b[43mtest_loader\u001b[49m)\n",
      "\u001b[0;31mNameError\u001b[0m: name 'test_loader' is not defined"
     ]
    }
   ],
   "source": [
    "# Modeli eğit ve test et\n",
    "train_model(model, train_loader, criterion, optimizer, num_epochs)\n"
   ]
  },
  {
   "cell_type": "code",
   "execution_count": 9,
   "metadata": {},
   "outputs": [],
   "source": [
    "import os\n",
    "import torch\n",
    "import torch.nn as nn\n",
    "import torch.optim as optim\n",
    "from torchvision import datasets, models, transforms\n",
    "from torch.utils.data import DataLoader, Dataset\n",
    "from PIL import Image"
   ]
  },
  {
   "cell_type": "code",
   "execution_count": 10,
   "metadata": {},
   "outputs": [],
   "source": [
    "batch_size = 64\n",
    "learning_rate = 0.0001\n",
    "num_epochs = 5\n",
    "test_split_ratio = 0.4  # Verinin yüzde 20'sini test seti olarak ayır\n"
   ]
  },
  {
   "cell_type": "code",
   "execution_count": 11,
   "metadata": {},
   "outputs": [],
   "source": [
    "# Özel Dataset sınıfı oluşturma\n",
    "class SignatureDataset(Dataset):\n",
    "    def __init__(self, real_dir, forg_dir, transform=None):\n",
    "        self.real_dir = real_dir\n",
    "        self.forg_dir = forg_dir\n",
    "        self.transform = transform\n",
    "        self.real_images = os.listdir(real_dir)\n",
    "        self.forg_images = os.listdir(forg_dir)\n",
    "        self.labels = [0] * len(self.real_images) + [1] * len(self.forg_images)  # 0: Gerçek, 1: Sahte\n",
    "\n",
    "    def __len__(self):\n",
    "        return len(self.labels)\n",
    "\n",
    "    def __getitem__(self, idx):\n",
    "        if idx < len(self.real_images):\n",
    "            img_path = os.path.join(self.real_dir, self.real_images[idx])\n",
    "            label = 0\n",
    "        else:\n",
    "            img_path = os.path.join(self.forg_dir, self.forg_images[idx - len(self.real_images)])\n",
    "            label = 1\n",
    "\n",
    "        image = Image.open(img_path).convert(\"RGB\")\n",
    "        if self.transform:\n",
    "            image = self.transform(image)\n",
    "        return image, label\n"
   ]
  },
  {
   "cell_type": "code",
   "execution_count": 14,
   "metadata": {},
   "outputs": [],
   "source": [
    "# Veri dönüşümleri\n",
    "data_transforms = transforms.Compose([\n",
    "    transforms.Resize((224, 224)),\n",
    "    transforms.ToTensor(),\n",
    "    transforms.Normalize([0.485, 0.456, 0.406], [0.229, 0.224, 0.225])\n",
    "])\n",
    "\n",
    "# Dataset oluşturma\n",
    "full_dataset = SignatureDataset(real_dir=\"1_veri_setleri/1_Cedar_dataset/full_org\", forg_dir=\"1_veri_setleri/1_Cedar_dataset/full_forg\", transform=data_transforms)\n",
    "\n",
    "# Eğitim ve test setlerine bölme\n",
    "test_size = int(len(full_dataset) * test_split_ratio)\n",
    "train_size = len(full_dataset) - test_size\n",
    "train_dataset, test_dataset = random_split(full_dataset, [train_size, test_size])\n",
    "\n",
    "# DataLoader oluşturma\n",
    "train_loader = DataLoader(train_dataset, batch_size=batch_size, shuffle=True)\n",
    "test_loader = DataLoader(test_dataset, batch_size=batch_size, shuffle=False)\n"
   ]
  },
  {
   "cell_type": "code",
   "execution_count": 15,
   "metadata": {},
   "outputs": [],
   "source": [
    "class SignatureDataset(Dataset):\n",
    "    def __init__(self, real_dir, forg_dir, transform=None):\n",
    "        self.real_dir = real_dir\n",
    "        self.forg_dir = forg_dir\n",
    "        self.transform = transform\n",
    "        self.real_images = [img for img in os.listdir(real_dir) if img.endswith(('.png', '.jpg', '.jpeg'))]\n",
    "        self.forg_images = [img for img in os.listdir(forg_dir) if img.endswith(('.png', '.jpg', '.jpeg'))]\n",
    "\n",
    "    def __len__(self):\n",
    "        return len(self.real_images) + len(self.forg_images)\n",
    "\n",
    "    def __getitem__(self, idx):\n",
    "        if idx < len(self.real_images):\n",
    "            img_path = os.path.join(self.real_dir, self.real_images[idx])\n",
    "            label = 0  # Orijinal imza\n",
    "        else:\n",
    "            img_path = os.path.join(self.forg_dir, self.forg_images[idx - len(self.real_images)])\n",
    "            label = 1  # Sahte imza\n",
    "\n",
    "        image = Image.open(img_path).convert(\"RGB\")\n",
    "        if self.transform:\n",
    "            image = self.transform(image)\n",
    "        \n",
    "        return image, label"
   ]
  },
  {
   "cell_type": "code",
   "execution_count": 16,
   "metadata": {},
   "outputs": [
    {
     "name": "stderr",
     "output_type": "stream",
     "text": [
      "/opt/anaconda3/envs/signature_3-10-14/lib/python3.10/site-packages/torchvision/models/_utils.py:223: UserWarning: Arguments other than a weight enum or `None` for 'weights' are deprecated since 0.13 and may be removed in the future. The current behavior is equivalent to passing `weights=VGG16_Weights.IMAGENET1K_V1`. You can also use `weights=VGG16_Weights.DEFAULT` to get the most up-to-date weights.\n",
      "  warnings.warn(msg)\n"
     ]
    }
   ],
   "source": [
    "# Modeli yükleme\n",
    "model = models.vgg16(pretrained=True)\n",
    "model.classifier[6] = nn.Linear(model.classifier[6].in_features, 2)\n",
    "device = torch.device(\"cuda:0\" if torch.cuda.is_available() else \"cpu\")\n",
    "model = model.to(device)\n",
    "\n",
    "# Loss ve optimizer tanımlama\n",
    "criterion = nn.CrossEntropyLoss()\n",
    "optimizer = optim.Adam(model.parameters(), lr=learning_rate)\n"
   ]
  },
  {
   "cell_type": "code",
   "execution_count": 17,
   "metadata": {},
   "outputs": [],
   "source": [
    "# Eğitim fonksiyonu\n",
    "def train_model(model, train_loader, criterion, optimizer, num_epochs):\n",
    "    model.train()\n",
    "    for epoch in range(num_epochs):\n",
    "        running_loss = 0.0\n",
    "        correct = 0\n",
    "        total = 0\n",
    "        for images, labels in train_loader:\n",
    "            images, labels = images.to(device), labels.to(device)\n",
    "            \n",
    "            optimizer.zero_grad()\n",
    "            outputs = model(images)\n",
    "            loss = criterion(outputs, labels)\n",
    "            loss.backward()\n",
    "            optimizer.step()\n",
    "\n",
    "            running_loss += loss.item() * images.size(0)\n",
    "            _, predicted = torch.max(outputs, 1)\n",
    "            correct += (predicted == labels).sum().item()\n",
    "            total += labels.size(0)\n",
    "\n",
    "        epoch_loss = running_loss / len(train_loader.dataset)\n",
    "        accuracy = correct / total\n",
    "        print(f\"Epoch [{epoch+1}/{num_epochs}], Loss: {epoch_loss:.4f}, Accuracy: {accuracy:.4f}\")\n",
    "\n",
    "# Test fonksiyonu\n",
    "def test_model(model, test_loader, criterion):\n",
    "    model.eval()\n",
    "    running_loss = 0.0\n",
    "    correct = 0\n",
    "    total = 0\n",
    "    with torch.no_grad():\n",
    "        for images, labels in test_loader:\n",
    "            images, labels = images.to(device), labels.to(device)\n",
    "            outputs = model(images)\n",
    "            loss = criterion(outputs, labels)\n",
    "\n",
    "            running_loss += loss.item() * images.size(0)\n",
    "            _, predicted = torch.max(outputs, 1)\n",
    "            correct += (predicted == labels).sum().item()\n",
    "            total += labels.size(0)\n",
    "\n",
    "    test_loss = running_loss / len(test_loader.dataset)\n",
    "    accuracy = correct / total\n",
    "    print(f\"Test Loss: {test_loss:.4f}, Test Accuracy: {accuracy:.4f}\")\n"
   ]
  },
  {
   "cell_type": "code",
   "execution_count": 18,
   "metadata": {},
   "outputs": [
    {
     "name": "stdout",
     "output_type": "stream",
     "text": [
      "Epoch [1/5], Loss: 0.0565, Accuracy: 0.9744\n",
      "Epoch [2/5], Loss: 0.0000, Accuracy: 1.0000\n",
      "Epoch [3/5], Loss: 0.0000, Accuracy: 1.0000\n",
      "Epoch [4/5], Loss: 0.0000, Accuracy: 1.0000\n",
      "Epoch [5/5], Loss: 0.0000, Accuracy: 1.0000\n"
     ]
    }
   ],
   "source": [
    "train_model(model, train_loader, criterion, optimizer, num_epochs)\n"
   ]
  },
  {
   "cell_type": "code",
   "execution_count": 19,
   "metadata": {},
   "outputs": [
    {
     "name": "stdout",
     "output_type": "stream",
     "text": [
      "Test Loss: 0.0000, Test Accuracy: 1.0000\n"
     ]
    }
   ],
   "source": [
    "test_model(model, test_loader, criterion)\n"
   ]
  },
  {
   "cell_type": "code",
   "execution_count": null,
   "metadata": {},
   "outputs": [],
   "source": [
    "# Modeli dosyaya kaydet\n",
    "torch.save(model.state_dict(), 'signature_model.pth')\n",
    "print(\"Model başarıyla kaydedildi.\")\n"
   ]
  },
  {
   "cell_type": "code",
   "execution_count": null,
   "metadata": {},
   "outputs": [],
   "source": []
  }
 ],
 "metadata": {
  "kernelspec": {
   "display_name": "signature_3-10-14",
   "language": "python",
   "name": "python3"
  },
  "language_info": {
   "codemirror_mode": {
    "name": "ipython",
    "version": 3
   },
   "file_extension": ".py",
   "mimetype": "text/x-python",
   "name": "python",
   "nbconvert_exporter": "python",
   "pygments_lexer": "ipython3",
   "version": "3.10.13"
  }
 },
 "nbformat": 4,
 "nbformat_minor": 2
}
